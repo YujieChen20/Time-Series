{
  "nbformat": 4,
  "nbformat_minor": 0,
  "metadata": {
    "colab": {
      "provenance": []
    },
    "kernelspec": {
      "name": "python3",
      "display_name": "Python 3"
    },
    "language_info": {
      "name": "python"
    }
  },
  "cells": [
    {
      "cell_type": "markdown",
      "source": [
        "# Deep Learning for Time Series"
      ],
      "metadata": {
        "id": "CVtnnydWpiXV"
      }
    },
    {
      "cell_type": "markdown",
      "source": [
        "## Get Original Data"
      ],
      "metadata": {
        "id": "fzEFPCEpVTXw"
      }
    },
    {
      "cell_type": "code",
      "execution_count": 14,
      "metadata": {
        "id": "Vcm9sB-ZjWLM"
      },
      "outputs": [],
      "source": [
        "from pandas import read_csv\n",
        "import numpy as np\n",
        "from keras.models import Sequential\n",
        "from keras.layers import Dense, SimpleRNN, Bidirectional, GRU, LSTM\n",
        "from keras import layers\n",
        "from sklearn.preprocessing import MinMaxScaler\n",
        "from sklearn.metrics import mean_squared_error\n",
        "import math\n",
        "import matplotlib.pyplot as plt\n",
        "from tensorflow.keras import regularizers"
      ]
    },
    {
      "cell_type": "code",
      "source": [
        "# Parameter split_percent defines the ratio of training examples\n",
        "def get_train_test(df, split_percent=0.8):\n",
        "    #df = read_csv(url, usecols=['Adj Close'], engine='python')\n",
        "    data = np.array(df.values.astype('float32'))\n",
        "    scaler = MinMaxScaler(feature_range=(0, 1))\n",
        "    data = scaler.fit_transform(data).flatten()\n",
        "    n = len(data)\n",
        "    # Point for splitting data into train and test\n",
        "\n",
        "    split = int(n * split_percent)\n",
        "    train_data = data[range(split)]\n",
        "    test_data = data[split:]\n",
        "    return train_data, test_data, data\n",
        "\n",
        "\n",
        "# Prepare the input X and target Y\n",
        "def get_XY(dat, time_steps):\n",
        "    # Indices of target array\n",
        "    Y_ind = np.arange(time_steps, len(dat), time_steps)\n",
        "    Y = dat[Y_ind]\n",
        "    # Prepare X\n",
        "    rows_x = len(Y)\n",
        "    X = dat[range(time_steps * rows_x)]\n",
        "    X = np.reshape(X, (rows_x, time_steps, 1))\n",
        "    return X, Y\n",
        "\n",
        "\n",
        "# RNN model\n",
        "def create_RNN(hidden_units, dense_units, input_shape, activation):\n",
        "    model = Sequential()\n",
        "    model.add(SimpleRNN(hidden_units, input_shape=input_shape,\n",
        "                        activation=activation[0]))\n",
        "    model.add(Dense(units=dense_units, activation=activation[1],kernel_regularizer=regularizers.L1L2(l1=1e-5, l2=1e-4),\n",
        "                      bias_regularizer=regularizers.L2(1e-4),\n",
        "                      activity_regularizer=regularizers.L2(1e-5)))\n",
        "    model.compile(loss='mean_squared_error', optimizer='adam',run_eagerly=True)\n",
        "    return model\n",
        "\n",
        "\n",
        "# LSTM model\n",
        "def create_LSTM():\n",
        "    model = Sequential()\n",
        "    model.add(Bidirectional(LSTM(32, activation='tanh')))\n",
        "    model.add(layers.Dense(1, activation='linear',kernel_regularizer=regularizers.L1L2(l1=1e-5, l2=1e-4),\n",
        "                      bias_regularizer=regularizers.L2(1e-4),\n",
        "                      activity_regularizer=regularizers.L2(1e-5)))\n",
        "    model.compile(optimizer=\"adam\", loss='mae',run_eagerly=True)\n",
        "    return model\n",
        "\n",
        "\n",
        "# GRU model\n",
        "def create_GRU():\n",
        "    model = Sequential()\n",
        "    model.add(Bidirectional(GRU(units=32, activation='tanh', recurrent_activation='sigmoid', stateful=False)))\n",
        "    model.add(layers.Dense(1, activation='linear',kernel_regularizer=regularizers.L1L2(l1=1e-5, l2=1e-4),\n",
        "                      bias_regularizer=regularizers.L2(1e-4),\n",
        "                      activity_regularizer=regularizers.L2(1e-5)))\n",
        "    model.compile(optimizer=\"adam\", loss='mae',run_eagerly=True)\n",
        "    return model\n",
        "\n",
        "\n",
        "# Evaluation matrices\n",
        "def print_error(trainY, testY, train_predict, test_predict):\n",
        "    # Error of predictions\n",
        "    train_rmse = math.sqrt(mean_squared_error(trainY, train_predict))\n",
        "    test_rmse = math.sqrt(mean_squared_error(testY, test_predict))\n",
        "    \n",
        "    train_mse = mean_squared_error(trainY, train_predict)\n",
        "    test_mse = mean_squared_error(testY, test_predict)\n",
        "    \n",
        "    # Print MSE\n",
        "    print(\"Train MSE: %.3f MSE\" % (train_mse))\n",
        "    print(\"Train MSE: %.3f MSE\" % (test_mse))\n",
        "    \n",
        "    # Print RMSE\n",
        "    print('Train RMSE: %.3f RMSE' % (train_rmse))\n",
        "    print('Test RMSE: %.3f RMSE' % (test_rmse))\n",
        "    \n",
        "    \n",
        "\n",
        "# Plot the result\n",
        "def plot_result(trainY, testY, train_predict, test_predict):\n",
        "    actual = np.append(trainY, testY)\n",
        "    predictions = np.append(train_predict, test_predict)\n",
        "    rows = len(actual)\n",
        "    plt.figure(figsize=(15, 6), dpi=80)\n",
        "    plt.plot(range(rows), actual)\n",
        "    plt.plot(range(rows), predictions)\n",
        "    plt.legend(['Actual', 'Predictions'])\n",
        "    plt.xlabel('Observation number after given time steps')\n",
        "    plt.ylabel('Interest Rate')\n",
        "    plt.title('Model Prediction Result')"
      ],
      "metadata": {
        "id": "CqogbxUMjptb"
      },
      "execution_count": 3,
      "outputs": []
    },
    {
      "cell_type": "code",
      "source": [
        "from google.colab import files\n",
        "uploaded = files.upload()"
      ],
      "metadata": {
        "colab": {
          "base_uri": "https://localhost:8080/",
          "height": 74
        },
        "id": "U1lr4Js5jtOH",
        "outputId": "ee395d28-63d7-44b4-8f26-0c060a05d5a4"
      },
      "execution_count": 4,
      "outputs": [
        {
          "output_type": "display_data",
          "data": {
            "text/plain": [
              "<IPython.core.display.HTML object>"
            ],
            "text/html": [
              "\n",
              "     <input type=\"file\" id=\"files-d6f90e7d-57f0-48ff-8219-55b5fc60078c\" name=\"files[]\" multiple disabled\n",
              "        style=\"border:none\" />\n",
              "     <output id=\"result-d6f90e7d-57f0-48ff-8219-55b5fc60078c\">\n",
              "      Upload widget is only available when the cell has been executed in the\n",
              "      current browser session. Please rerun this cell to enable.\n",
              "      </output>\n",
              "      <script>// Copyright 2017 Google LLC\n",
              "//\n",
              "// Licensed under the Apache License, Version 2.0 (the \"License\");\n",
              "// you may not use this file except in compliance with the License.\n",
              "// You may obtain a copy of the License at\n",
              "//\n",
              "//      http://www.apache.org/licenses/LICENSE-2.0\n",
              "//\n",
              "// Unless required by applicable law or agreed to in writing, software\n",
              "// distributed under the License is distributed on an \"AS IS\" BASIS,\n",
              "// WITHOUT WARRANTIES OR CONDITIONS OF ANY KIND, either express or implied.\n",
              "// See the License for the specific language governing permissions and\n",
              "// limitations under the License.\n",
              "\n",
              "/**\n",
              " * @fileoverview Helpers for google.colab Python module.\n",
              " */\n",
              "(function(scope) {\n",
              "function span(text, styleAttributes = {}) {\n",
              "  const element = document.createElement('span');\n",
              "  element.textContent = text;\n",
              "  for (const key of Object.keys(styleAttributes)) {\n",
              "    element.style[key] = styleAttributes[key];\n",
              "  }\n",
              "  return element;\n",
              "}\n",
              "\n",
              "// Max number of bytes which will be uploaded at a time.\n",
              "const MAX_PAYLOAD_SIZE = 100 * 1024;\n",
              "\n",
              "function _uploadFiles(inputId, outputId) {\n",
              "  const steps = uploadFilesStep(inputId, outputId);\n",
              "  const outputElement = document.getElementById(outputId);\n",
              "  // Cache steps on the outputElement to make it available for the next call\n",
              "  // to uploadFilesContinue from Python.\n",
              "  outputElement.steps = steps;\n",
              "\n",
              "  return _uploadFilesContinue(outputId);\n",
              "}\n",
              "\n",
              "// This is roughly an async generator (not supported in the browser yet),\n",
              "// where there are multiple asynchronous steps and the Python side is going\n",
              "// to poll for completion of each step.\n",
              "// This uses a Promise to block the python side on completion of each step,\n",
              "// then passes the result of the previous step as the input to the next step.\n",
              "function _uploadFilesContinue(outputId) {\n",
              "  const outputElement = document.getElementById(outputId);\n",
              "  const steps = outputElement.steps;\n",
              "\n",
              "  const next = steps.next(outputElement.lastPromiseValue);\n",
              "  return Promise.resolve(next.value.promise).then((value) => {\n",
              "    // Cache the last promise value to make it available to the next\n",
              "    // step of the generator.\n",
              "    outputElement.lastPromiseValue = value;\n",
              "    return next.value.response;\n",
              "  });\n",
              "}\n",
              "\n",
              "/**\n",
              " * Generator function which is called between each async step of the upload\n",
              " * process.\n",
              " * @param {string} inputId Element ID of the input file picker element.\n",
              " * @param {string} outputId Element ID of the output display.\n",
              " * @return {!Iterable<!Object>} Iterable of next steps.\n",
              " */\n",
              "function* uploadFilesStep(inputId, outputId) {\n",
              "  const inputElement = document.getElementById(inputId);\n",
              "  inputElement.disabled = false;\n",
              "\n",
              "  const outputElement = document.getElementById(outputId);\n",
              "  outputElement.innerHTML = '';\n",
              "\n",
              "  const pickedPromise = new Promise((resolve) => {\n",
              "    inputElement.addEventListener('change', (e) => {\n",
              "      resolve(e.target.files);\n",
              "    });\n",
              "  });\n",
              "\n",
              "  const cancel = document.createElement('button');\n",
              "  inputElement.parentElement.appendChild(cancel);\n",
              "  cancel.textContent = 'Cancel upload';\n",
              "  const cancelPromise = new Promise((resolve) => {\n",
              "    cancel.onclick = () => {\n",
              "      resolve(null);\n",
              "    };\n",
              "  });\n",
              "\n",
              "  // Wait for the user to pick the files.\n",
              "  const files = yield {\n",
              "    promise: Promise.race([pickedPromise, cancelPromise]),\n",
              "    response: {\n",
              "      action: 'starting',\n",
              "    }\n",
              "  };\n",
              "\n",
              "  cancel.remove();\n",
              "\n",
              "  // Disable the input element since further picks are not allowed.\n",
              "  inputElement.disabled = true;\n",
              "\n",
              "  if (!files) {\n",
              "    return {\n",
              "      response: {\n",
              "        action: 'complete',\n",
              "      }\n",
              "    };\n",
              "  }\n",
              "\n",
              "  for (const file of files) {\n",
              "    const li = document.createElement('li');\n",
              "    li.append(span(file.name, {fontWeight: 'bold'}));\n",
              "    li.append(span(\n",
              "        `(${file.type || 'n/a'}) - ${file.size} bytes, ` +\n",
              "        `last modified: ${\n",
              "            file.lastModifiedDate ? file.lastModifiedDate.toLocaleDateString() :\n",
              "                                    'n/a'} - `));\n",
              "    const percent = span('0% done');\n",
              "    li.appendChild(percent);\n",
              "\n",
              "    outputElement.appendChild(li);\n",
              "\n",
              "    const fileDataPromise = new Promise((resolve) => {\n",
              "      const reader = new FileReader();\n",
              "      reader.onload = (e) => {\n",
              "        resolve(e.target.result);\n",
              "      };\n",
              "      reader.readAsArrayBuffer(file);\n",
              "    });\n",
              "    // Wait for the data to be ready.\n",
              "    let fileData = yield {\n",
              "      promise: fileDataPromise,\n",
              "      response: {\n",
              "        action: 'continue',\n",
              "      }\n",
              "    };\n",
              "\n",
              "    // Use a chunked sending to avoid message size limits. See b/62115660.\n",
              "    let position = 0;\n",
              "    do {\n",
              "      const length = Math.min(fileData.byteLength - position, MAX_PAYLOAD_SIZE);\n",
              "      const chunk = new Uint8Array(fileData, position, length);\n",
              "      position += length;\n",
              "\n",
              "      const base64 = btoa(String.fromCharCode.apply(null, chunk));\n",
              "      yield {\n",
              "        response: {\n",
              "          action: 'append',\n",
              "          file: file.name,\n",
              "          data: base64,\n",
              "        },\n",
              "      };\n",
              "\n",
              "      let percentDone = fileData.byteLength === 0 ?\n",
              "          100 :\n",
              "          Math.round((position / fileData.byteLength) * 100);\n",
              "      percent.textContent = `${percentDone}% done`;\n",
              "\n",
              "    } while (position < fileData.byteLength);\n",
              "  }\n",
              "\n",
              "  // All done.\n",
              "  yield {\n",
              "    response: {\n",
              "      action: 'complete',\n",
              "    }\n",
              "  };\n",
              "}\n",
              "\n",
              "scope.google = scope.google || {};\n",
              "scope.google.colab = scope.google.colab || {};\n",
              "scope.google.colab._files = {\n",
              "  _uploadFiles,\n",
              "  _uploadFilesContinue,\n",
              "};\n",
              "})(self);\n",
              "</script> "
            ]
          },
          "metadata": {}
        },
        {
          "output_type": "stream",
          "name": "stdout",
          "text": [
            "Saving data.csv to data.csv\n"
          ]
        }
      ]
    },
    {
      "cell_type": "code",
      "source": [
        "import io\n",
        "df = read_csv(io.BytesIO(uploaded['data.csv']))\n",
        "# Dataset is now stored in a Pandas Dataframe"
      ],
      "metadata": {
        "id": "k9FHM2hGkyWE"
      },
      "execution_count": 5,
      "outputs": []
    },
    {
      "cell_type": "code",
      "source": [
        "df = df.drop(['Unnamed: 0', 'DATE'], axis=1)\n",
        "df"
      ],
      "metadata": {
        "colab": {
          "base_uri": "https://localhost:8080/",
          "height": 424
        },
        "id": "8pQyHKw9k_pN",
        "outputId": "441acf38-7291-4255-9fff-82751ca3637d"
      },
      "execution_count": 6,
      "outputs": [
        {
          "output_type": "execute_result",
          "data": {
            "text/plain": [
              "          GDP  Information Employment  Interest Rate\n",
              "0   11312.766                    3208       1.309618\n",
              "1   11566.669                    3176       1.128689\n",
              "2   11772.234                    3155       1.380819\n",
              "3   11923.447                    3141       1.701954\n",
              "4   12112.815                    3130       1.358149\n",
              "..        ...                     ...            ...\n",
              "74  24349.121                    2934       0.087901\n",
              "75  24740.480                    2985       0.319495\n",
              "76  25248.476                    3035       0.949400\n",
              "77  25723.941                    3102       1.062175\n",
              "78  26137.992                    3116       1.797332\n",
              "\n",
              "[79 rows x 3 columns]"
            ],
            "text/html": [
              "\n",
              "  <div id=\"df-2c161c24-7bb5-4059-adbf-208fa04304a3\">\n",
              "    <div class=\"colab-df-container\">\n",
              "      <div>\n",
              "<style scoped>\n",
              "    .dataframe tbody tr th:only-of-type {\n",
              "        vertical-align: middle;\n",
              "    }\n",
              "\n",
              "    .dataframe tbody tr th {\n",
              "        vertical-align: top;\n",
              "    }\n",
              "\n",
              "    .dataframe thead th {\n",
              "        text-align: right;\n",
              "    }\n",
              "</style>\n",
              "<table border=\"1\" class=\"dataframe\">\n",
              "  <thead>\n",
              "    <tr style=\"text-align: right;\">\n",
              "      <th></th>\n",
              "      <th>GDP</th>\n",
              "      <th>Information Employment</th>\n",
              "      <th>Interest Rate</th>\n",
              "    </tr>\n",
              "  </thead>\n",
              "  <tbody>\n",
              "    <tr>\n",
              "      <th>0</th>\n",
              "      <td>11312.766</td>\n",
              "      <td>3208</td>\n",
              "      <td>1.309618</td>\n",
              "    </tr>\n",
              "    <tr>\n",
              "      <th>1</th>\n",
              "      <td>11566.669</td>\n",
              "      <td>3176</td>\n",
              "      <td>1.128689</td>\n",
              "    </tr>\n",
              "    <tr>\n",
              "      <th>2</th>\n",
              "      <td>11772.234</td>\n",
              "      <td>3155</td>\n",
              "      <td>1.380819</td>\n",
              "    </tr>\n",
              "    <tr>\n",
              "      <th>3</th>\n",
              "      <td>11923.447</td>\n",
              "      <td>3141</td>\n",
              "      <td>1.701954</td>\n",
              "    </tr>\n",
              "    <tr>\n",
              "      <th>4</th>\n",
              "      <td>12112.815</td>\n",
              "      <td>3130</td>\n",
              "      <td>1.358149</td>\n",
              "    </tr>\n",
              "    <tr>\n",
              "      <th>...</th>\n",
              "      <td>...</td>\n",
              "      <td>...</td>\n",
              "      <td>...</td>\n",
              "    </tr>\n",
              "    <tr>\n",
              "      <th>74</th>\n",
              "      <td>24349.121</td>\n",
              "      <td>2934</td>\n",
              "      <td>0.087901</td>\n",
              "    </tr>\n",
              "    <tr>\n",
              "      <th>75</th>\n",
              "      <td>24740.480</td>\n",
              "      <td>2985</td>\n",
              "      <td>0.319495</td>\n",
              "    </tr>\n",
              "    <tr>\n",
              "      <th>76</th>\n",
              "      <td>25248.476</td>\n",
              "      <td>3035</td>\n",
              "      <td>0.949400</td>\n",
              "    </tr>\n",
              "    <tr>\n",
              "      <th>77</th>\n",
              "      <td>25723.941</td>\n",
              "      <td>3102</td>\n",
              "      <td>1.062175</td>\n",
              "    </tr>\n",
              "    <tr>\n",
              "      <th>78</th>\n",
              "      <td>26137.992</td>\n",
              "      <td>3116</td>\n",
              "      <td>1.797332</td>\n",
              "    </tr>\n",
              "  </tbody>\n",
              "</table>\n",
              "<p>79 rows × 3 columns</p>\n",
              "</div>\n",
              "      <button class=\"colab-df-convert\" onclick=\"convertToInteractive('df-2c161c24-7bb5-4059-adbf-208fa04304a3')\"\n",
              "              title=\"Convert this dataframe to an interactive table.\"\n",
              "              style=\"display:none;\">\n",
              "        \n",
              "  <svg xmlns=\"http://www.w3.org/2000/svg\" height=\"24px\"viewBox=\"0 0 24 24\"\n",
              "       width=\"24px\">\n",
              "    <path d=\"M0 0h24v24H0V0z\" fill=\"none\"/>\n",
              "    <path d=\"M18.56 5.44l.94 2.06.94-2.06 2.06-.94-2.06-.94-.94-2.06-.94 2.06-2.06.94zm-11 1L8.5 8.5l.94-2.06 2.06-.94-2.06-.94L8.5 2.5l-.94 2.06-2.06.94zm10 10l.94 2.06.94-2.06 2.06-.94-2.06-.94-.94-2.06-.94 2.06-2.06.94z\"/><path d=\"M17.41 7.96l-1.37-1.37c-.4-.4-.92-.59-1.43-.59-.52 0-1.04.2-1.43.59L10.3 9.45l-7.72 7.72c-.78.78-.78 2.05 0 2.83L4 21.41c.39.39.9.59 1.41.59.51 0 1.02-.2 1.41-.59l7.78-7.78 2.81-2.81c.8-.78.8-2.07 0-2.86zM5.41 20L4 18.59l7.72-7.72 1.47 1.35L5.41 20z\"/>\n",
              "  </svg>\n",
              "      </button>\n",
              "      \n",
              "  <style>\n",
              "    .colab-df-container {\n",
              "      display:flex;\n",
              "      flex-wrap:wrap;\n",
              "      gap: 12px;\n",
              "    }\n",
              "\n",
              "    .colab-df-convert {\n",
              "      background-color: #E8F0FE;\n",
              "      border: none;\n",
              "      border-radius: 50%;\n",
              "      cursor: pointer;\n",
              "      display: none;\n",
              "      fill: #1967D2;\n",
              "      height: 32px;\n",
              "      padding: 0 0 0 0;\n",
              "      width: 32px;\n",
              "    }\n",
              "\n",
              "    .colab-df-convert:hover {\n",
              "      background-color: #E2EBFA;\n",
              "      box-shadow: 0px 1px 2px rgba(60, 64, 67, 0.3), 0px 1px 3px 1px rgba(60, 64, 67, 0.15);\n",
              "      fill: #174EA6;\n",
              "    }\n",
              "\n",
              "    [theme=dark] .colab-df-convert {\n",
              "      background-color: #3B4455;\n",
              "      fill: #D2E3FC;\n",
              "    }\n",
              "\n",
              "    [theme=dark] .colab-df-convert:hover {\n",
              "      background-color: #434B5C;\n",
              "      box-shadow: 0px 1px 3px 1px rgba(0, 0, 0, 0.15);\n",
              "      filter: drop-shadow(0px 1px 2px rgba(0, 0, 0, 0.3));\n",
              "      fill: #FFFFFF;\n",
              "    }\n",
              "  </style>\n",
              "\n",
              "      <script>\n",
              "        const buttonEl =\n",
              "          document.querySelector('#df-2c161c24-7bb5-4059-adbf-208fa04304a3 button.colab-df-convert');\n",
              "        buttonEl.style.display =\n",
              "          google.colab.kernel.accessAllowed ? 'block' : 'none';\n",
              "\n",
              "        async function convertToInteractive(key) {\n",
              "          const element = document.querySelector('#df-2c161c24-7bb5-4059-adbf-208fa04304a3');\n",
              "          const dataTable =\n",
              "            await google.colab.kernel.invokeFunction('convertToInteractive',\n",
              "                                                     [key], {});\n",
              "          if (!dataTable) return;\n",
              "\n",
              "          const docLinkHtml = 'Like what you see? Visit the ' +\n",
              "            '<a target=\"_blank\" href=https://colab.research.google.com/notebooks/data_table.ipynb>data table notebook</a>'\n",
              "            + ' to learn more about interactive tables.';\n",
              "          element.innerHTML = '';\n",
              "          dataTable['output_type'] = 'display_data';\n",
              "          await google.colab.output.renderOutput(dataTable, element);\n",
              "          const docLink = document.createElement('div');\n",
              "          docLink.innerHTML = docLinkHtml;\n",
              "          element.appendChild(docLink);\n",
              "        }\n",
              "      </script>\n",
              "    </div>\n",
              "  </div>\n",
              "  "
            ]
          },
          "metadata": {},
          "execution_count": 6
        }
      ]
    },
    {
      "cell_type": "markdown",
      "source": [
        "## Train Test Split"
      ],
      "metadata": {
        "id": "97oto-VUVoik"
      }
    },
    {
      "cell_type": "code",
      "source": [
        "train_data, test_data, data = get_train_test(df)\n",
        "time_steps = 12\n",
        "trainX, trainY = get_XY(train_data, time_steps)\n",
        "testX, testY = get_XY(test_data, time_steps)"
      ],
      "metadata": {
        "id": "g68oSvz-mSBo"
      },
      "execution_count": 7,
      "outputs": []
    },
    {
      "cell_type": "markdown",
      "source": [
        "## RNN"
      ],
      "metadata": {
        "id": "gEmBAgKMmMHM"
      }
    },
    {
      "cell_type": "code",
      "source": [
        "#@title\n",
        "model = create_RNN(hidden_units=3, dense_units=1, input_shape=(time_steps, 1),\n",
        "                       activation=['tanh', 'tanh'])\n",
        "\n",
        "model.fit(trainX, trainY, epochs=20, batch_size=1, verbose=2)\n",
        "model.summary()\n",
        "\n",
        "# make predictions\n",
        "train_predict = model.predict(trainX)\n",
        "test_predict = model.predict(testX)\n",
        "# Mean square error\n",
        "print_error(trainY, testY, train_predict, test_predict)\n",
        "# plot the result [Actual and Predicted Values]\n",
        "plot_result(trainY, testY, train_predict, test_predict)"
      ],
      "metadata": {
        "colab": {
          "base_uri": "https://localhost:8080/",
          "height": 1000
        },
        "id": "EMBFfjQzk4dD",
        "outputId": "51c87cad-62ec-4b4e-f985-3c8b6a0ccb9d",
        "cellView": "form"
      },
      "execution_count": 8,
      "outputs": [
        {
          "output_type": "stream",
          "name": "stdout",
          "text": [
            "Epoch 1/20\n",
            "15/15 - 1s - loss: 0.1577 - 991ms/epoch - 66ms/step\n",
            "Epoch 2/20\n",
            "15/15 - 1s - loss: 0.1235 - 1s/epoch - 88ms/step\n",
            "Epoch 3/20\n",
            "15/15 - 2s - loss: 0.0968 - 2s/epoch - 106ms/step\n",
            "Epoch 4/20\n",
            "15/15 - 2s - loss: 0.0703 - 2s/epoch - 110ms/step\n",
            "Epoch 5/20\n",
            "15/15 - 2s - loss: 0.0513 - 2s/epoch - 106ms/step\n",
            "Epoch 6/20\n",
            "15/15 - 2s - loss: 0.0406 - 2s/epoch - 103ms/step\n",
            "Epoch 7/20\n",
            "15/15 - 3s - loss: 0.0297 - 3s/epoch - 171ms/step\n",
            "Epoch 8/20\n",
            "15/15 - 2s - loss: 0.0239 - 2s/epoch - 143ms/step\n",
            "Epoch 9/20\n",
            "15/15 - 1s - loss: 0.0207 - 893ms/epoch - 60ms/step\n",
            "Epoch 10/20\n",
            "15/15 - 1s - loss: 0.0171 - 734ms/epoch - 49ms/step\n",
            "Epoch 11/20\n",
            "15/15 - 1s - loss: 0.0155 - 743ms/epoch - 50ms/step\n",
            "Epoch 12/20\n",
            "15/15 - 1s - loss: 0.0143 - 733ms/epoch - 49ms/step\n",
            "Epoch 13/20\n",
            "15/15 - 1s - loss: 0.0131 - 733ms/epoch - 49ms/step\n",
            "Epoch 14/20\n",
            "15/15 - 1s - loss: 0.0123 - 730ms/epoch - 49ms/step\n",
            "Epoch 15/20\n",
            "15/15 - 1s - loss: 0.0115 - 734ms/epoch - 49ms/step\n",
            "Epoch 16/20\n",
            "15/15 - 1s - loss: 0.0110 - 732ms/epoch - 49ms/step\n",
            "Epoch 17/20\n",
            "15/15 - 1s - loss: 0.0104 - 752ms/epoch - 50ms/step\n",
            "Epoch 18/20\n",
            "15/15 - 1s - loss: 0.0099 - 730ms/epoch - 49ms/step\n",
            "Epoch 19/20\n",
            "15/15 - 1s - loss: 0.0095 - 693ms/epoch - 46ms/step\n",
            "Epoch 20/20\n",
            "15/15 - 1s - loss: 0.0093 - 713ms/epoch - 48ms/step\n",
            "Model: \"sequential\"\n",
            "_________________________________________________________________\n",
            " Layer (type)                Output Shape              Param #   \n",
            "=================================================================\n",
            " simple_rnn (SimpleRNN)      (None, 3)                 15        \n",
            "                                                                 \n",
            " dense (Dense)               (None, 1)                 4         \n",
            "                                                                 \n",
            "=================================================================\n",
            "Total params: 19\n",
            "Trainable params: 19\n",
            "Non-trainable params: 0\n",
            "_________________________________________________________________\n",
            "1/1 [==============================] - 0s 128ms/step\n",
            "1/1 [==============================] - 0s 43ms/step\n",
            "Train MSE: 0.009 MSE\n",
            "Train MSE: 0.057 MSE\n",
            "Train RMSE: 0.093 RMSE\n",
            "Test RMSE: 0.239 RMSE\n"
          ]
        },
        {
          "output_type": "display_data",
          "data": {
            "text/plain": [
              "<Figure size 1200x480 with 1 Axes>"
            ],
            "image/png": "[encoded data removed]"
          },
          "metadata": {}
        }
      ]
    },
    {
      "cell_type": "markdown",
      "source": [
        "## LSTM"
      ],
      "metadata": {
        "id": "KtWqJ2MTmZZd"
      }
    },
    {
      "cell_type": "code",
      "source": [
        "#@title\n",
        "model = create_LSTM()\n",
        "model.fit(trainX, trainY, epochs=20, batch_size=1, verbose=2)\n",
        "model.summary()\n",
        "\n",
        "# make predictions\n",
        "train_predict = model.predict(trainX)\n",
        "test_predict = model.predict(testX)\n",
        "# Mean square error\n",
        "print_error(trainY, testY, train_predict, test_predict)\n",
        "# plot the result [Actual and Predicted Values]\n",
        "plot_result(trainY, testY, train_predict, test_predict)"
      ],
      "metadata": {
        "colab": {
          "base_uri": "https://localhost:8080/",
          "height": 1000
        },
        "id": "kKW150kMmdmj",
        "outputId": "eaadbbf0-3746-4913-f53a-1fee57196ee8"
      },
      "execution_count": 9,
      "outputs": [
        {
          "output_type": "stream",
          "name": "stdout",
          "text": [
            "Epoch 1/20\n",
            "15/15 - 6s - loss: 0.2520 - 6s/epoch - 398ms/step\n",
            "Epoch 2/20\n",
            "15/15 - 2s - loss: 0.1640 - 2s/epoch - 159ms/step\n",
            "Epoch 3/20\n",
            "15/15 - 2s - loss: 0.1631 - 2s/epoch - 104ms/step\n",
            "Epoch 4/20\n",
            "15/15 - 2s - loss: 0.1451 - 2s/epoch - 107ms/step\n",
            "Epoch 5/20\n",
            "15/15 - 2s - loss: 0.1340 - 2s/epoch - 102ms/step\n",
            "Epoch 6/20\n",
            "15/15 - 2s - loss: 0.1236 - 2s/epoch - 139ms/step\n",
            "Epoch 7/20\n",
            "15/15 - 2s - loss: 0.1220 - 2s/epoch - 127ms/step\n",
            "Epoch 8/20\n",
            "15/15 - 2s - loss: 0.1213 - 2s/epoch - 104ms/step\n",
            "Epoch 9/20\n",
            "15/15 - 2s - loss: 0.1177 - 2s/epoch - 104ms/step\n",
            "Epoch 10/20\n",
            "15/15 - 2s - loss: 0.1160 - 2s/epoch - 105ms/step\n",
            "Epoch 11/20\n",
            "15/15 - 2s - loss: 0.1062 - 2s/epoch - 104ms/step\n",
            "Epoch 12/20\n",
            "15/15 - 2s - loss: 0.1192 - 2s/epoch - 140ms/step\n",
            "Epoch 13/20\n",
            "15/15 - 4s - loss: 0.1117 - 4s/epoch - 253ms/step\n",
            "Epoch 14/20\n",
            "15/15 - 2s - loss: 0.1083 - 2s/epoch - 113ms/step\n",
            "Epoch 15/20\n",
            "15/15 - 2s - loss: 0.1090 - 2s/epoch - 104ms/step\n",
            "Epoch 16/20\n",
            "15/15 - 2s - loss: 0.1095 - 2s/epoch - 101ms/step\n",
            "Epoch 17/20\n",
            "15/15 - 2s - loss: 0.1102 - 2s/epoch - 104ms/step\n",
            "Epoch 18/20\n",
            "15/15 - 2s - loss: 0.1022 - 2s/epoch - 103ms/step\n",
            "Epoch 19/20\n",
            "15/15 - 2s - loss: 0.1045 - 2s/epoch - 108ms/step\n",
            "Epoch 20/20\n",
            "15/15 - 2s - loss: 0.1033 - 2s/epoch - 124ms/step\n",
            "Model: \"sequential_1\"\n",
            "_________________________________________________________________\n",
            " Layer (type)                Output Shape              Param #   \n",
            "=================================================================\n",
            " bidirectional (Bidirectiona  (1, 64)                  8704      \n",
            " l)                                                              \n",
            "                                                                 \n",
            " dense_1 (Dense)             (1, 1)                    65        \n",
            "                                                                 \n",
            "=================================================================\n",
            "Total params: 8,769\n",
            "Trainable params: 8,769\n",
            "Non-trainable params: 0\n",
            "_________________________________________________________________\n",
            "1/1 [==============================] - 1s 923ms/step\n",
            "1/1 [==============================] - 0s 67ms/step\n",
            "Train MSE: 0.017 MSE\n",
            "Train MSE: 0.217 MSE\n",
            "Train RMSE: 0.132 RMSE\n",
            "Test RMSE: 0.465 RMSE\n"
          ]
        },
        {
          "output_type": "display_data",
          "data": {
            "text/plain": [
              "<Figure size 1200x480 with 1 Axes>"
            ],
            "image/png": "[encoded data removed]"
          },
          "metadata": {}
        }
      ]
    },
    {
      "cell_type": "markdown",
      "source": [
        "## GRU"
      ],
      "metadata": {
        "id": "GsN9GYk8mnhg"
      }
    },
    {
      "cell_type": "code",
      "source": [
        "#@title\n",
        "model = create_GRU()\n",
        "model.fit(trainX, trainY, epochs=20, batch_size=1, verbose=2)\n",
        "model.summary()\n",
        "\n",
        "# make predictions\n",
        "train_predict = model.predict(trainX)\n",
        "test_predict = model.predict(testX)\n",
        "# Mean square error\n",
        "print_error(trainY, testY, train_predict, test_predict)\n",
        "# plot the result [Actual and Predicted Values]\n",
        "plot_result(trainY, testY, train_predict, test_predict)"
      ],
      "metadata": {
        "colab": {
          "base_uri": "https://localhost:8080/",
          "height": 1000
        },
        "id": "2XNh6t9imo3p",
        "outputId": "e3ec4610-d21c-4c6d-ffa5-2e54e6542fad"
      },
      "execution_count": 10,
      "outputs": [
        {
          "output_type": "stream",
          "name": "stdout",
          "text": [
            "Epoch 1/20\n",
            "15/15 - 2s - loss: 0.2022 - 2s/epoch - 163ms/step\n",
            "Epoch 2/20\n",
            "15/15 - 2s - loss: 0.1834 - 2s/epoch - 126ms/step\n",
            "Epoch 3/20\n",
            "15/15 - 2s - loss: 0.1732 - 2s/epoch - 124ms/step\n",
            "Epoch 4/20\n",
            "15/15 - 2s - loss: 0.1616 - 2s/epoch - 141ms/step\n",
            "Epoch 5/20\n",
            "15/15 - 2s - loss: 0.1326 - 2s/epoch - 164ms/step\n",
            "Epoch 6/20\n",
            "15/15 - 2s - loss: 0.1348 - 2s/epoch - 120ms/step\n",
            "Epoch 7/20\n",
            "15/15 - 2s - loss: 0.1140 - 2s/epoch - 119ms/step\n",
            "Epoch 8/20\n",
            "15/15 - 2s - loss: 0.1062 - 2s/epoch - 123ms/step\n",
            "Epoch 9/20\n",
            "15/15 - 2s - loss: 0.1041 - 2s/epoch - 119ms/step\n",
            "Epoch 10/20\n",
            "15/15 - 2s - loss: 0.1016 - 2s/epoch - 120ms/step\n",
            "Epoch 11/20\n",
            "15/15 - 2s - loss: 0.0951 - 2s/epoch - 159ms/step\n",
            "Epoch 12/20\n",
            "15/15 - 2s - loss: 0.0904 - 2s/epoch - 140ms/step\n",
            "Epoch 13/20\n",
            "15/15 - 2s - loss: 0.0882 - 2s/epoch - 124ms/step\n",
            "Epoch 14/20\n",
            "15/15 - 2s - loss: 0.0895 - 2s/epoch - 121ms/step\n",
            "Epoch 15/20\n",
            "15/15 - 2s - loss: 0.0893 - 2s/epoch - 123ms/step\n",
            "Epoch 16/20\n",
            "15/15 - 2s - loss: 0.0786 - 2s/epoch - 121ms/step\n",
            "Epoch 17/20\n",
            "15/15 - 2s - loss: 0.0769 - 2s/epoch - 131ms/step\n",
            "Epoch 18/20\n",
            "15/15 - 3s - loss: 0.0758 - 3s/epoch - 209ms/step\n",
            "Epoch 19/20\n",
            "15/15 - 2s - loss: 0.0767 - 2s/epoch - 121ms/step\n",
            "Epoch 20/20\n",
            "15/15 - 2s - loss: 0.0692 - 2s/epoch - 120ms/step\n",
            "Model: \"sequential_2\"\n",
            "_________________________________________________________________\n",
            " Layer (type)                Output Shape              Param #   \n",
            "=================================================================\n",
            " bidirectional_1 (Bidirectio  (1, 64)                  6720      \n",
            " nal)                                                            \n",
            "                                                                 \n",
            " dense_2 (Dense)             (1, 1)                    65        \n",
            "                                                                 \n",
            "=================================================================\n",
            "Total params: 6,785\n",
            "Trainable params: 6,785\n",
            "Non-trainable params: 0\n",
            "_________________________________________________________________\n",
            "1/1 [==============================] - 1s 585ms/step\n",
            "1/1 [==============================] - 0s 77ms/step\n",
            "Train MSE: 0.007 MSE\n",
            "Train MSE: 0.108 MSE\n",
            "Train RMSE: 0.086 RMSE\n",
            "Test RMSE: 0.328 RMSE\n"
          ]
        },
        {
          "output_type": "display_data",
          "data": {
            "text/plain": [
              "<Figure size 1200x480 with 1 Axes>"
            ],
            "image/png": "[encoded data removed]"
          },
          "metadata": {}
        }
      ]
    },
    {
      "cell_type": "markdown",
      "source": [
        "## Discussion"
      ],
      "metadata": {
        "id": "N1fyDgS6nXhx"
      }
    },
    {
      "cell_type": "markdown",
      "source": [
        "Amoung those 3 ANN methods, GRU is more accurate in the test set. \n",
        "\n",
        "Including regularization in an ANN model has the effect of constraining the weights of the model, which helps to prevent overfitting of the model to the training data. Overfitting occurs when a model is overly complex and captures noise in the training data rather than the underlying patterns. Regularization techniques such as L1 and L2 regularization penalize large weights, which can help prevent overfitting by encouraging the model to focus on the most important features in the data.\n",
        "\n",
        "The accuracy of a deep learning model in predicting the future depends on various factors such as the quality and quantity of data, the complexity of the model, and the specific problem being solved. In general, deep learning models are known to be good at capturing complex relationships between input and output variables, which can make them well-suited for time-series forecasting tasks. However, the accuracy of the model may decrease as the prediction horizon increases, as the model is forced to make predictions further into the future based on less information. The optimal prediction horizon for a deep learning model depends on the specific problem and the available data, but typically ranges from a few time steps to a few months or years.\n",
        "\n",
        "Deep learning models is more effective in capturing complex relationships and patterns in data, particularly when dealing with large and complex datasets. This can make them particularly useful for time-series forecasting tasks that involve multiple variables, nonlinear relationships, and complex dynamics."
      ],
      "metadata": {
        "id": "In97uULon0jG"
      }
    },
    {
      "cell_type": "markdown",
      "source": [
        "## Comparation"
      ],
      "metadata": {
        "id": "RuktF_EvoqWj"
      }
    },
    {
      "cell_type": "markdown",
      "source": [
        "In terms of forecasting performance, the deep learning models generally outperformed the traditional time series models (ARMA/ARIMA/SARIMA, ARIMAX/SARIMAX/VAR) in this project, as measured by the RMSE metric. This suggests that the deep learning models were better able to capture the complex and non-linear relationships between the input variables and the target variable, and were able to make more accurate predictions as a result.\n",
        "\n",
        "The ARMA/ARIMA/SARIMA models had relatively high RMSE values, indicating that they were not able to capture all of the underlying patterns and trends in the data. The addition of exogenous variables through ARIMAX/SARIMAX models improved their performance slightly, but the RMSE values were still relatively high compared to the deep learning models.\n",
        "\n",
        "While the VAR models performed better than the ARMA/ARIMA/SARIMA models, their RMSE values were still higher than those of the deep learning models. This suggests that the deep learning models were better able to capture the complex relationships between the input variables and the target variable, and were able to make more accurate predictions as a result.\n",
        "\n",
        "Overall, the deep learning models showed superior performance in this project compared to the traditional time series models. However, it is worth noting that the deep learning models are more complex and computationally intensive, and may not be the best choice for all forecasting tasks depending on the available data and the specific problem at hand."
      ],
      "metadata": {
        "id": "RIEjx-csovOu"
      }
    },
    {
      "cell_type": "markdown",
      "source": [
        "## Source Code"
      ],
      "metadata": {
        "id": "l7oKq1vYP8zj"
      }
    },
    {
      "cell_type": "markdown",
      "source": [
        "[Github](https://github.com/YujieChen20/Time-Series/blob/main/deepLearning.ipynb)"
      ],
      "metadata": {
        "id": "Dr8iWuXUQQkb"
      }
    }
  ]
}